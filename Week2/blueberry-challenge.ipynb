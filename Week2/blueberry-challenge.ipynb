{
 "cells": [
  {
   "cell_type": "code",
   "execution_count": 1,
   "id": "4a4ebedc",
   "metadata": {
    "_cell_guid": "b1076dfc-b9ad-4769-8c92-a6c4dae69d19",
    "_uuid": "8f2839f25d086af736a60e9eeb907d3b93b6e0e5",
    "execution": {
     "iopub.execute_input": "2024-06-19T09:55:27.006073Z",
     "iopub.status.busy": "2024-06-19T09:55:27.005664Z",
     "iopub.status.idle": "2024-06-19T09:55:28.148836Z",
     "shell.execute_reply": "2024-06-19T09:55:28.147447Z"
    },
    "papermill": {
     "duration": 1.154807,
     "end_time": "2024-06-19T09:55:28.151693",
     "exception": false,
     "start_time": "2024-06-19T09:55:26.996886",
     "status": "completed"
    },
    "tags": []
   },
   "outputs": [
    {
     "name": "stdout",
     "output_type": "stream",
     "text": [
      "/kaggle/input/blueberry-yield-zindua-ml-week-2-challenge/sample_submission.csv\n",
      "/kaggle/input/blueberry-yield-zindua-ml-week-2-challenge/train.csv\n",
      "/kaggle/input/blueberry-yield-zindua-ml-week-2-challenge/test.csv\n"
     ]
    }
   ],
   "source": [
    "# This Python 3 environment comes with many helpful analytics libraries installed\n",
    "# It is defined by the kaggle/python Docker image: https://github.com/kaggle/docker-python\n",
    "# For example, here's several helpful packages to load\n",
    "\n",
    "import numpy as np # linear algebra\n",
    "import pandas as pd # data processing, CSV file I/O (e.g. pd.read_csv)\n",
    "\n",
    "# Input data files are available in the read-only \"../input/\" directory\n",
    "# For example, running this (by clicking run or pressing Shift+Enter) will list all files under the input directory\n",
    "\n",
    "import os\n",
    "for dirname, _, filenames in os.walk('/kaggle/input'):\n",
    "    for filename in filenames:\n",
    "        print(os.path.join(dirname, filename))\n",
    "\n",
    "# You can write up to 20GB to the current directory (/kaggle/working/) that gets preserved as output when you create a version using \"Save & Run All\" \n",
    "# You can also write temporary files to /kaggle/temp/, but they won't be saved outside of the current session"
   ]
  },
  {
   "cell_type": "code",
   "execution_count": 2,
   "id": "c4ae4bf8",
   "metadata": {
    "execution": {
     "iopub.execute_input": "2024-06-19T09:55:28.168442Z",
     "iopub.status.busy": "2024-06-19T09:55:28.166990Z",
     "iopub.status.idle": "2024-06-19T09:55:30.383169Z",
     "shell.execute_reply": "2024-06-19T09:55:30.381634Z"
    },
    "papermill": {
     "duration": 2.228102,
     "end_time": "2024-06-19T09:55:30.386816",
     "exception": false,
     "start_time": "2024-06-19T09:55:28.158714",
     "status": "completed"
    },
    "tags": []
   },
   "outputs": [],
   "source": [
    "import pandas as pd\n",
    "import numpy as np\n",
    "import matplotlib.pyplot as plt\n",
    "import seaborn as sns\n",
    "import pickle\n",
    "from sklearn.pipeline import make_pipeline\n",
    "from sklearn.preprocessing import StandardScaler, PolynomialFeatures, FunctionTransformer\n",
    "from sklearn.linear_model import LinearRegression, Ridge, Lasso, ElasticNet, TweedieRegressor\n",
    "from sklearn.metrics import r2_score, mean_squared_error\n",
    "from sklearn.model_selection import train_test_split, cross_val_score\n",
    "from sklearn.preprocessing import PolynomialFeatures\n"
   ]
  },
  {
   "cell_type": "code",
   "execution_count": 3,
   "id": "de9b0a4b",
   "metadata": {
    "execution": {
     "iopub.execute_input": "2024-06-19T09:55:30.402410Z",
     "iopub.status.busy": "2024-06-19T09:55:30.401895Z",
     "iopub.status.idle": "2024-06-19T09:55:30.537300Z",
     "shell.execute_reply": "2024-06-19T09:55:30.536069Z"
    },
    "papermill": {
     "duration": 0.146963,
     "end_time": "2024-06-19T09:55:30.540469",
     "exception": false,
     "start_time": "2024-06-19T09:55:30.393506",
     "status": "completed"
    },
    "tags": []
   },
   "outputs": [
    {
     "data": {
      "text/html": [
       "<div>\n",
       "<style scoped>\n",
       "    .dataframe tbody tr th:only-of-type {\n",
       "        vertical-align: middle;\n",
       "    }\n",
       "\n",
       "    .dataframe tbody tr th {\n",
       "        vertical-align: top;\n",
       "    }\n",
       "\n",
       "    .dataframe thead th {\n",
       "        text-align: right;\n",
       "    }\n",
       "</style>\n",
       "<table border=\"1\" class=\"dataframe\">\n",
       "  <thead>\n",
       "    <tr style=\"text-align: right;\">\n",
       "      <th></th>\n",
       "      <th>id</th>\n",
       "      <th>clonesize</th>\n",
       "      <th>honeybee</th>\n",
       "      <th>bumbles</th>\n",
       "      <th>andrena</th>\n",
       "      <th>osmia</th>\n",
       "      <th>MaxOfUpperTRange</th>\n",
       "      <th>MinOfUpperTRange</th>\n",
       "      <th>AverageOfUpperTRange</th>\n",
       "      <th>MaxOfLowerTRange</th>\n",
       "      <th>MinOfLowerTRange</th>\n",
       "      <th>AverageOfLowerTRange</th>\n",
       "      <th>RainingDays</th>\n",
       "      <th>AverageRainingDays</th>\n",
       "      <th>fruitset</th>\n",
       "      <th>fruitmass</th>\n",
       "      <th>seeds</th>\n",
       "      <th>yield</th>\n",
       "    </tr>\n",
       "  </thead>\n",
       "  <tbody>\n",
       "    <tr>\n",
       "      <th>0</th>\n",
       "      <td>0</td>\n",
       "      <td>25.0</td>\n",
       "      <td>0.50</td>\n",
       "      <td>0.25</td>\n",
       "      <td>0.75</td>\n",
       "      <td>0.50</td>\n",
       "      <td>69.7</td>\n",
       "      <td>42.1</td>\n",
       "      <td>58.2</td>\n",
       "      <td>50.2</td>\n",
       "      <td>24.3</td>\n",
       "      <td>41.2</td>\n",
       "      <td>24.0</td>\n",
       "      <td>0.39</td>\n",
       "      <td>0.425011</td>\n",
       "      <td>0.417545</td>\n",
       "      <td>32.460887</td>\n",
       "      <td>4476.81146</td>\n",
       "    </tr>\n",
       "    <tr>\n",
       "      <th>1</th>\n",
       "      <td>1</td>\n",
       "      <td>25.0</td>\n",
       "      <td>0.50</td>\n",
       "      <td>0.25</td>\n",
       "      <td>0.50</td>\n",
       "      <td>0.50</td>\n",
       "      <td>69.7</td>\n",
       "      <td>42.1</td>\n",
       "      <td>58.2</td>\n",
       "      <td>50.2</td>\n",
       "      <td>24.3</td>\n",
       "      <td>41.2</td>\n",
       "      <td>24.0</td>\n",
       "      <td>0.39</td>\n",
       "      <td>0.444908</td>\n",
       "      <td>0.422051</td>\n",
       "      <td>33.858317</td>\n",
       "      <td>5548.12201</td>\n",
       "    </tr>\n",
       "    <tr>\n",
       "      <th>2</th>\n",
       "      <td>2</td>\n",
       "      <td>12.5</td>\n",
       "      <td>0.25</td>\n",
       "      <td>0.25</td>\n",
       "      <td>0.63</td>\n",
       "      <td>0.63</td>\n",
       "      <td>86.0</td>\n",
       "      <td>52.0</td>\n",
       "      <td>71.9</td>\n",
       "      <td>62.0</td>\n",
       "      <td>30.0</td>\n",
       "      <td>50.8</td>\n",
       "      <td>24.0</td>\n",
       "      <td>0.39</td>\n",
       "      <td>0.552927</td>\n",
       "      <td>0.470853</td>\n",
       "      <td>38.341781</td>\n",
       "      <td>6869.77760</td>\n",
       "    </tr>\n",
       "    <tr>\n",
       "      <th>3</th>\n",
       "      <td>3</td>\n",
       "      <td>12.5</td>\n",
       "      <td>0.25</td>\n",
       "      <td>0.25</td>\n",
       "      <td>0.63</td>\n",
       "      <td>0.50</td>\n",
       "      <td>77.4</td>\n",
       "      <td>46.8</td>\n",
       "      <td>64.7</td>\n",
       "      <td>55.8</td>\n",
       "      <td>27.0</td>\n",
       "      <td>45.8</td>\n",
       "      <td>24.0</td>\n",
       "      <td>0.39</td>\n",
       "      <td>0.565976</td>\n",
       "      <td>0.478137</td>\n",
       "      <td>39.467561</td>\n",
       "      <td>6880.77590</td>\n",
       "    </tr>\n",
       "    <tr>\n",
       "      <th>4</th>\n",
       "      <td>4</td>\n",
       "      <td>25.0</td>\n",
       "      <td>0.50</td>\n",
       "      <td>0.25</td>\n",
       "      <td>0.63</td>\n",
       "      <td>0.63</td>\n",
       "      <td>77.4</td>\n",
       "      <td>46.8</td>\n",
       "      <td>64.7</td>\n",
       "      <td>55.8</td>\n",
       "      <td>27.0</td>\n",
       "      <td>45.8</td>\n",
       "      <td>24.0</td>\n",
       "      <td>0.39</td>\n",
       "      <td>0.579677</td>\n",
       "      <td>0.494165</td>\n",
       "      <td>40.484512</td>\n",
       "      <td>7479.93417</td>\n",
       "    </tr>\n",
       "  </tbody>\n",
       "</table>\n",
       "</div>"
      ],
      "text/plain": [
       "   id  clonesize  honeybee  bumbles  andrena  osmia  MaxOfUpperTRange  \\\n",
       "0   0       25.0      0.50     0.25     0.75   0.50              69.7   \n",
       "1   1       25.0      0.50     0.25     0.50   0.50              69.7   \n",
       "2   2       12.5      0.25     0.25     0.63   0.63              86.0   \n",
       "3   3       12.5      0.25     0.25     0.63   0.50              77.4   \n",
       "4   4       25.0      0.50     0.25     0.63   0.63              77.4   \n",
       "\n",
       "   MinOfUpperTRange  AverageOfUpperTRange  MaxOfLowerTRange  MinOfLowerTRange  \\\n",
       "0              42.1                  58.2              50.2              24.3   \n",
       "1              42.1                  58.2              50.2              24.3   \n",
       "2              52.0                  71.9              62.0              30.0   \n",
       "3              46.8                  64.7              55.8              27.0   \n",
       "4              46.8                  64.7              55.8              27.0   \n",
       "\n",
       "   AverageOfLowerTRange  RainingDays  AverageRainingDays  fruitset  fruitmass  \\\n",
       "0                  41.2         24.0                0.39  0.425011   0.417545   \n",
       "1                  41.2         24.0                0.39  0.444908   0.422051   \n",
       "2                  50.8         24.0                0.39  0.552927   0.470853   \n",
       "3                  45.8         24.0                0.39  0.565976   0.478137   \n",
       "4                  45.8         24.0                0.39  0.579677   0.494165   \n",
       "\n",
       "       seeds       yield  \n",
       "0  32.460887  4476.81146  \n",
       "1  33.858317  5548.12201  \n",
       "2  38.341781  6869.77760  \n",
       "3  39.467561  6880.77590  \n",
       "4  40.484512  7479.93417  "
      ]
     },
     "execution_count": 3,
     "metadata": {},
     "output_type": "execute_result"
    }
   ],
   "source": [
    "df=pd.read_csv('/kaggle/input/blueberry-yield-zindua-ml-week-2-challenge/train.csv')\n",
    "df.head()"
   ]
  },
  {
   "cell_type": "code",
   "execution_count": 4,
   "id": "ad3d450a",
   "metadata": {
    "execution": {
     "iopub.execute_input": "2024-06-19T09:55:30.557814Z",
     "iopub.status.busy": "2024-06-19T09:55:30.557376Z",
     "iopub.status.idle": "2024-06-19T09:55:30.594763Z",
     "shell.execute_reply": "2024-06-19T09:55:30.593032Z"
    },
    "papermill": {
     "duration": 0.04944,
     "end_time": "2024-06-19T09:55:30.597633",
     "exception": false,
     "start_time": "2024-06-19T09:55:30.548193",
     "status": "completed"
    },
    "tags": []
   },
   "outputs": [
    {
     "name": "stdout",
     "output_type": "stream",
     "text": [
      "<class 'pandas.core.frame.DataFrame'>\n",
      "RangeIndex: 15289 entries, 0 to 15288\n",
      "Data columns (total 17 columns):\n",
      " #   Column                Non-Null Count  Dtype  \n",
      "---  ------                --------------  -----  \n",
      " 0   clonesize             15289 non-null  float64\n",
      " 1   honeybee              15289 non-null  float64\n",
      " 2   bumbles               15289 non-null  float64\n",
      " 3   andrena               15289 non-null  float64\n",
      " 4   osmia                 15289 non-null  float64\n",
      " 5   MaxOfUpperTRange      15289 non-null  float64\n",
      " 6   MinOfUpperTRange      15289 non-null  float64\n",
      " 7   AverageOfUpperTRange  15289 non-null  float64\n",
      " 8   MaxOfLowerTRange      15289 non-null  float64\n",
      " 9   MinOfLowerTRange      15289 non-null  float64\n",
      " 10  AverageOfLowerTRange  15289 non-null  float64\n",
      " 11  RainingDays           15289 non-null  float64\n",
      " 12  AverageRainingDays    15289 non-null  float64\n",
      " 13  fruitset              15289 non-null  float64\n",
      " 14  fruitmass             15289 non-null  float64\n",
      " 15  seeds                 15289 non-null  float64\n",
      " 16  yield                 15289 non-null  float64\n",
      "dtypes: float64(17)\n",
      "memory usage: 2.0 MB\n"
     ]
    }
   ],
   "source": [
    "\n",
    "df=df.drop(columns = ['id'])\n",
    "df.info()\n"
   ]
  },
  {
   "cell_type": "code",
   "execution_count": 5,
   "id": "5a472d2f",
   "metadata": {
    "execution": {
     "iopub.execute_input": "2024-06-19T09:55:30.614718Z",
     "iopub.status.busy": "2024-06-19T09:55:30.614295Z",
     "iopub.status.idle": "2024-06-19T09:55:30.622280Z",
     "shell.execute_reply": "2024-06-19T09:55:30.621235Z"
    },
    "papermill": {
     "duration": 0.019753,
     "end_time": "2024-06-19T09:55:30.625256",
     "exception": false,
     "start_time": "2024-06-19T09:55:30.605503",
     "status": "completed"
    },
    "tags": []
   },
   "outputs": [],
   "source": [
    "x=df.drop('yield',axis=1)\n",
    "y=df['yield']"
   ]
  },
  {
   "cell_type": "code",
   "execution_count": 6,
   "id": "344ea917",
   "metadata": {
    "execution": {
     "iopub.execute_input": "2024-06-19T09:55:30.641703Z",
     "iopub.status.busy": "2024-06-19T09:55:30.640899Z",
     "iopub.status.idle": "2024-06-19T09:55:31.241767Z",
     "shell.execute_reply": "2024-06-19T09:55:31.240073Z"
    },
    "papermill": {
     "duration": 0.615826,
     "end_time": "2024-06-19T09:55:31.248251",
     "exception": false,
     "start_time": "2024-06-19T09:55:30.632425",
     "status": "completed"
    },
    "tags": []
   },
   "outputs": [
    {
     "name": "stdout",
     "output_type": "stream",
     "text": [
      "371.9653405620364\n"
     ]
    }
   ],
   "source": [
    "lin_reg = make_pipeline(StandardScaler(), LinearRegression())\n",
    "scores = cross_val_score(lin_reg, x, y, cv=10, scoring='neg_mean_absolute_error').mean()*-1\n",
    "print(scores)"
   ]
  },
  {
   "cell_type": "code",
   "execution_count": 7,
   "id": "5a4f8861",
   "metadata": {
    "execution": {
     "iopub.execute_input": "2024-06-19T09:55:31.314594Z",
     "iopub.status.busy": "2024-06-19T09:55:31.313001Z",
     "iopub.status.idle": "2024-06-19T09:55:33.258794Z",
     "shell.execute_reply": "2024-06-19T09:55:33.250959Z"
    },
    "papermill": {
     "duration": 1.982869,
     "end_time": "2024-06-19T09:55:33.265054",
     "exception": false,
     "start_time": "2024-06-19T09:55:31.282185",
     "status": "completed"
    },
    "tags": []
   },
   "outputs": [
    {
     "name": "stdout",
     "output_type": "stream",
     "text": [
      "371.8477069457161\n"
     ]
    }
   ],
   "source": [
    "lasso = make_pipeline(StandardScaler(), Lasso(alpha=1))\n",
    "scores = cross_val_score(lasso, x, y, cv=10, scoring='neg_mean_absolute_error').mean()*-1\n",
    "print(scores)"
   ]
  },
  {
   "cell_type": "code",
   "execution_count": 8,
   "id": "1ab24870",
   "metadata": {
    "execution": {
     "iopub.execute_input": "2024-06-19T09:55:33.321712Z",
     "iopub.status.busy": "2024-06-19T09:55:33.320034Z",
     "iopub.status.idle": "2024-06-19T09:55:35.275004Z",
     "shell.execute_reply": "2024-06-19T09:55:35.273081Z"
    },
    "papermill": {
     "duration": 1.977981,
     "end_time": "2024-06-19T09:55:35.280689",
     "exception": false,
     "start_time": "2024-06-19T09:55:33.302708",
     "status": "completed"
    },
    "tags": []
   },
   "outputs": [
    {
     "name": "stdout",
     "output_type": "stream",
     "text": [
      "369.8836486286705\n"
     ]
    }
   ],
   "source": [
    "ridge = make_pipeline(PolynomialFeatures(degree=2),StandardScaler(), Ridge(alpha=0.5),)\n",
    "scores = cross_val_score(ridge, x, y, cv=10, scoring='neg_mean_absolute_error').mean()*-1\n",
    "print(scores)"
   ]
  },
  {
   "cell_type": "code",
   "execution_count": 9,
   "id": "d8f4f9da",
   "metadata": {
    "execution": {
     "iopub.execute_input": "2024-06-19T09:55:35.343717Z",
     "iopub.status.busy": "2024-06-19T09:55:35.342791Z",
     "iopub.status.idle": "2024-06-19T09:55:36.754336Z",
     "shell.execute_reply": "2024-06-19T09:55:36.752788Z"
    },
    "papermill": {
     "duration": 1.452806,
     "end_time": "2024-06-19T09:55:36.759492",
     "exception": false,
     "start_time": "2024-06-19T09:55:35.306686",
     "status": "completed"
    },
    "tags": []
   },
   "outputs": [
    {
     "name": "stdout",
     "output_type": "stream",
     "text": [
      "373.47921135315744\n"
     ]
    }
   ],
   "source": [
    "elastic_net = make_pipeline(StandardScaler(), ElasticNet(alpha=0.1, l1_ratio=0.9))\n",
    "scores = cross_val_score(elastic_net, x, y, cv=10, scoring='neg_mean_absolute_error').mean()*-1\n",
    "print(scores)"
   ]
  },
  {
   "cell_type": "code",
   "execution_count": 10,
   "id": "5d73f8bc",
   "metadata": {
    "execution": {
     "iopub.execute_input": "2024-06-19T09:55:36.826125Z",
     "iopub.status.busy": "2024-06-19T09:55:36.825246Z",
     "iopub.status.idle": "2024-06-19T09:55:36.979484Z",
     "shell.execute_reply": "2024-06-19T09:55:36.976893Z"
    },
    "papermill": {
     "duration": 0.201418,
     "end_time": "2024-06-19T09:55:36.985129",
     "exception": false,
     "start_time": "2024-06-19T09:55:36.783711",
     "status": "completed"
    },
    "tags": []
   },
   "outputs": [],
   "source": [
    " optimal_model=make_pipeline(PolynomialFeatures(degree=2),StandardScaler(), Ridge(alpha=0.5)).fit(x,y)"
   ]
  },
  {
   "cell_type": "code",
   "execution_count": 11,
   "id": "dac12401",
   "metadata": {
    "execution": {
     "iopub.execute_input": "2024-06-19T09:55:37.042517Z",
     "iopub.status.busy": "2024-06-19T09:55:37.041624Z",
     "iopub.status.idle": "2024-06-19T09:55:37.136615Z",
     "shell.execute_reply": "2024-06-19T09:55:37.135376Z"
    },
    "papermill": {
     "duration": 0.1331,
     "end_time": "2024-06-19T09:55:37.139420",
     "exception": false,
     "start_time": "2024-06-19T09:55:37.006320",
     "status": "completed"
    },
    "tags": []
   },
   "outputs": [
    {
     "data": {
      "text/html": [
       "<div>\n",
       "<style scoped>\n",
       "    .dataframe tbody tr th:only-of-type {\n",
       "        vertical-align: middle;\n",
       "    }\n",
       "\n",
       "    .dataframe tbody tr th {\n",
       "        vertical-align: top;\n",
       "    }\n",
       "\n",
       "    .dataframe thead th {\n",
       "        text-align: right;\n",
       "    }\n",
       "</style>\n",
       "<table border=\"1\" class=\"dataframe\">\n",
       "  <thead>\n",
       "    <tr style=\"text-align: right;\">\n",
       "      <th></th>\n",
       "      <th>id</th>\n",
       "      <th>clonesize</th>\n",
       "      <th>honeybee</th>\n",
       "      <th>bumbles</th>\n",
       "      <th>andrena</th>\n",
       "      <th>osmia</th>\n",
       "      <th>MaxOfUpperTRange</th>\n",
       "      <th>MinOfUpperTRange</th>\n",
       "      <th>AverageOfUpperTRange</th>\n",
       "      <th>MaxOfLowerTRange</th>\n",
       "      <th>MinOfLowerTRange</th>\n",
       "      <th>AverageOfLowerTRange</th>\n",
       "      <th>RainingDays</th>\n",
       "      <th>AverageRainingDays</th>\n",
       "      <th>fruitset</th>\n",
       "      <th>fruitmass</th>\n",
       "      <th>seeds</th>\n",
       "    </tr>\n",
       "  </thead>\n",
       "  <tbody>\n",
       "    <tr>\n",
       "      <th>0</th>\n",
       "      <td>15289</td>\n",
       "      <td>25.0</td>\n",
       "      <td>0.25</td>\n",
       "      <td>0.25</td>\n",
       "      <td>0.25</td>\n",
       "      <td>0.25</td>\n",
       "      <td>86.0</td>\n",
       "      <td>52.0</td>\n",
       "      <td>71.9</td>\n",
       "      <td>62.0</td>\n",
       "      <td>30.0</td>\n",
       "      <td>50.8</td>\n",
       "      <td>24.0</td>\n",
       "      <td>0.39</td>\n",
       "      <td>0.399367</td>\n",
       "      <td>0.408088</td>\n",
       "      <td>31.394569</td>\n",
       "    </tr>\n",
       "    <tr>\n",
       "      <th>1</th>\n",
       "      <td>15290</td>\n",
       "      <td>12.5</td>\n",
       "      <td>0.25</td>\n",
       "      <td>0.25</td>\n",
       "      <td>0.75</td>\n",
       "      <td>0.63</td>\n",
       "      <td>94.6</td>\n",
       "      <td>57.2</td>\n",
       "      <td>79.0</td>\n",
       "      <td>68.2</td>\n",
       "      <td>33.0</td>\n",
       "      <td>55.9</td>\n",
       "      <td>1.0</td>\n",
       "      <td>0.10</td>\n",
       "      <td>0.488048</td>\n",
       "      <td>0.442866</td>\n",
       "      <td>36.846956</td>\n",
       "    </tr>\n",
       "    <tr>\n",
       "      <th>2</th>\n",
       "      <td>15291</td>\n",
       "      <td>12.5</td>\n",
       "      <td>0.25</td>\n",
       "      <td>0.25</td>\n",
       "      <td>0.63</td>\n",
       "      <td>0.63</td>\n",
       "      <td>86.0</td>\n",
       "      <td>52.0</td>\n",
       "      <td>71.9</td>\n",
       "      <td>62.0</td>\n",
       "      <td>30.0</td>\n",
       "      <td>50.8</td>\n",
       "      <td>16.0</td>\n",
       "      <td>0.26</td>\n",
       "      <td>0.583379</td>\n",
       "      <td>0.487057</td>\n",
       "      <td>40.037644</td>\n",
       "    </tr>\n",
       "    <tr>\n",
       "      <th>3</th>\n",
       "      <td>15292</td>\n",
       "      <td>25.0</td>\n",
       "      <td>0.50</td>\n",
       "      <td>0.38</td>\n",
       "      <td>0.38</td>\n",
       "      <td>0.63</td>\n",
       "      <td>86.0</td>\n",
       "      <td>52.0</td>\n",
       "      <td>71.9</td>\n",
       "      <td>62.0</td>\n",
       "      <td>30.0</td>\n",
       "      <td>50.8</td>\n",
       "      <td>16.0</td>\n",
       "      <td>0.26</td>\n",
       "      <td>0.433014</td>\n",
       "      <td>0.422847</td>\n",
       "      <td>33.116091</td>\n",
       "    </tr>\n",
       "    <tr>\n",
       "      <th>4</th>\n",
       "      <td>15293</td>\n",
       "      <td>37.5</td>\n",
       "      <td>0.75</td>\n",
       "      <td>0.25</td>\n",
       "      <td>0.25</td>\n",
       "      <td>0.25</td>\n",
       "      <td>94.6</td>\n",
       "      <td>57.2</td>\n",
       "      <td>79.0</td>\n",
       "      <td>68.2</td>\n",
       "      <td>33.0</td>\n",
       "      <td>55.9</td>\n",
       "      <td>24.0</td>\n",
       "      <td>0.39</td>\n",
       "      <td>0.360996</td>\n",
       "      <td>0.388860</td>\n",
       "      <td>29.558019</td>\n",
       "    </tr>\n",
       "  </tbody>\n",
       "</table>\n",
       "</div>"
      ],
      "text/plain": [
       "      id  clonesize  honeybee  bumbles  andrena  osmia  MaxOfUpperTRange  \\\n",
       "0  15289       25.0      0.25     0.25     0.25   0.25              86.0   \n",
       "1  15290       12.5      0.25     0.25     0.75   0.63              94.6   \n",
       "2  15291       12.5      0.25     0.25     0.63   0.63              86.0   \n",
       "3  15292       25.0      0.50     0.38     0.38   0.63              86.0   \n",
       "4  15293       37.5      0.75     0.25     0.25   0.25              94.6   \n",
       "\n",
       "   MinOfUpperTRange  AverageOfUpperTRange  MaxOfLowerTRange  MinOfLowerTRange  \\\n",
       "0              52.0                  71.9              62.0              30.0   \n",
       "1              57.2                  79.0              68.2              33.0   \n",
       "2              52.0                  71.9              62.0              30.0   \n",
       "3              52.0                  71.9              62.0              30.0   \n",
       "4              57.2                  79.0              68.2              33.0   \n",
       "\n",
       "   AverageOfLowerTRange  RainingDays  AverageRainingDays  fruitset  fruitmass  \\\n",
       "0                  50.8         24.0                0.39  0.399367   0.408088   \n",
       "1                  55.9          1.0                0.10  0.488048   0.442866   \n",
       "2                  50.8         16.0                0.26  0.583379   0.487057   \n",
       "3                  50.8         16.0                0.26  0.433014   0.422847   \n",
       "4                  55.9         24.0                0.39  0.360996   0.388860   \n",
       "\n",
       "       seeds  \n",
       "0  31.394569  \n",
       "1  36.846956  \n",
       "2  40.037644  \n",
       "3  33.116091  \n",
       "4  29.558019  "
      ]
     },
     "execution_count": 11,
     "metadata": {},
     "output_type": "execute_result"
    }
   ],
   "source": [
    " df1=pd.read_csv('/kaggle/input/blueberry-yield-zindua-ml-week-2-challenge/test.csv')\n",
    " df1.head()"
   ]
  },
  {
   "cell_type": "code",
   "execution_count": 12,
   "id": "f9d621fc",
   "metadata": {
    "execution": {
     "iopub.execute_input": "2024-06-19T09:55:37.156931Z",
     "iopub.status.busy": "2024-06-19T09:55:37.156503Z",
     "iopub.status.idle": "2024-06-19T09:55:37.164579Z",
     "shell.execute_reply": "2024-06-19T09:55:37.163376Z"
    },
    "papermill": {
     "duration": 0.019835,
     "end_time": "2024-06-19T09:55:37.167293",
     "exception": false,
     "start_time": "2024-06-19T09:55:37.147458",
     "status": "completed"
    },
    "tags": []
   },
   "outputs": [
    {
     "data": {
      "text/plain": [
       "(10194, 17)"
      ]
     },
     "execution_count": 12,
     "metadata": {},
     "output_type": "execute_result"
    }
   ],
   "source": [
    "df1.shape"
   ]
  },
  {
   "cell_type": "code",
   "execution_count": 13,
   "id": "45e2a29d",
   "metadata": {
    "execution": {
     "iopub.execute_input": "2024-06-19T09:55:37.185443Z",
     "iopub.status.busy": "2024-06-19T09:55:37.184999Z",
     "iopub.status.idle": "2024-06-19T09:55:37.193880Z",
     "shell.execute_reply": "2024-06-19T09:55:37.192352Z"
    },
    "papermill": {
     "duration": 0.021607,
     "end_time": "2024-06-19T09:55:37.197112",
     "exception": false,
     "start_time": "2024-06-19T09:55:37.175505",
     "status": "completed"
    },
    "tags": []
   },
   "outputs": [
    {
     "data": {
      "text/plain": [
       "(10194,)"
      ]
     },
     "execution_count": 13,
     "metadata": {},
     "output_type": "execute_result"
    }
   ],
   "source": [
    "ids=df1['id']\n",
    "ids.shape"
   ]
  },
  {
   "cell_type": "code",
   "execution_count": 14,
   "id": "788cda6b",
   "metadata": {
    "execution": {
     "iopub.execute_input": "2024-06-19T09:55:37.216702Z",
     "iopub.status.busy": "2024-06-19T09:55:37.216279Z",
     "iopub.status.idle": "2024-06-19T09:55:37.231678Z",
     "shell.execute_reply": "2024-06-19T09:55:37.230284Z"
    },
    "papermill": {
     "duration": 0.029251,
     "end_time": "2024-06-19T09:55:37.235001",
     "exception": false,
     "start_time": "2024-06-19T09:55:37.205750",
     "status": "completed"
    },
    "tags": []
   },
   "outputs": [
    {
     "name": "stdout",
     "output_type": "stream",
     "text": [
      "<class 'pandas.core.frame.DataFrame'>\n",
      "RangeIndex: 10194 entries, 0 to 10193\n",
      "Data columns (total 16 columns):\n",
      " #   Column                Non-Null Count  Dtype  \n",
      "---  ------                --------------  -----  \n",
      " 0   clonesize             10194 non-null  float64\n",
      " 1   honeybee              10194 non-null  float64\n",
      " 2   bumbles               10194 non-null  float64\n",
      " 3   andrena               10194 non-null  float64\n",
      " 4   osmia                 10194 non-null  float64\n",
      " 5   MaxOfUpperTRange      10194 non-null  float64\n",
      " 6   MinOfUpperTRange      10194 non-null  float64\n",
      " 7   AverageOfUpperTRange  10194 non-null  float64\n",
      " 8   MaxOfLowerTRange      10194 non-null  float64\n",
      " 9   MinOfLowerTRange      10194 non-null  float64\n",
      " 10  AverageOfLowerTRange  10194 non-null  float64\n",
      " 11  RainingDays           10194 non-null  float64\n",
      " 12  AverageRainingDays    10194 non-null  float64\n",
      " 13  fruitset              10194 non-null  float64\n",
      " 14  fruitmass             10194 non-null  float64\n",
      " 15  seeds                 10194 non-null  float64\n",
      "dtypes: float64(16)\n",
      "memory usage: 1.2 MB\n"
     ]
    }
   ],
   "source": [
    "\n",
    "df1=df1.drop(columns = ['id'])\n",
    "df1.info()"
   ]
  },
  {
   "cell_type": "code",
   "execution_count": 15,
   "id": "7986e1c2",
   "metadata": {
    "execution": {
     "iopub.execute_input": "2024-06-19T09:55:37.254178Z",
     "iopub.status.busy": "2024-06-19T09:55:37.253754Z",
     "iopub.status.idle": "2024-06-19T09:55:37.297664Z",
     "shell.execute_reply": "2024-06-19T09:55:37.295784Z"
    },
    "papermill": {
     "duration": 0.059543,
     "end_time": "2024-06-19T09:55:37.303325",
     "exception": false,
     "start_time": "2024-06-19T09:55:37.243782",
     "status": "completed"
    },
    "tags": []
   },
   "outputs": [
    {
     "data": {
      "text/plain": [
       "(10194,)"
      ]
     },
     "execution_count": 15,
     "metadata": {},
     "output_type": "execute_result"
    }
   ],
   "source": [
    "y_pred =optimal_model.predict(df1)\n",
    "y_pred.shape"
   ]
  },
  {
   "cell_type": "code",
   "execution_count": 16,
   "id": "74da022a",
   "metadata": {
    "execution": {
     "iopub.execute_input": "2024-06-19T09:55:37.344128Z",
     "iopub.status.busy": "2024-06-19T09:55:37.342787Z",
     "iopub.status.idle": "2024-06-19T09:55:37.366605Z",
     "shell.execute_reply": "2024-06-19T09:55:37.365004Z"
    },
    "papermill": {
     "duration": 0.048556,
     "end_time": "2024-06-19T09:55:37.371111",
     "exception": false,
     "start_time": "2024-06-19T09:55:37.322555",
     "status": "completed"
    },
    "tags": []
   },
   "outputs": [
    {
     "data": {
      "text/html": [
       "<div>\n",
       "<style scoped>\n",
       "    .dataframe tbody tr th:only-of-type {\n",
       "        vertical-align: middle;\n",
       "    }\n",
       "\n",
       "    .dataframe tbody tr th {\n",
       "        vertical-align: top;\n",
       "    }\n",
       "\n",
       "    .dataframe thead th {\n",
       "        text-align: right;\n",
       "    }\n",
       "</style>\n",
       "<table border=\"1\" class=\"dataframe\">\n",
       "  <thead>\n",
       "    <tr style=\"text-align: right;\">\n",
       "      <th></th>\n",
       "      <th>Yield</th>\n",
       "    </tr>\n",
       "    <tr>\n",
       "      <th>ID</th>\n",
       "      <th></th>\n",
       "    </tr>\n",
       "  </thead>\n",
       "  <tbody>\n",
       "    <tr>\n",
       "      <th>15289</th>\n",
       "      <td>4323.947544</td>\n",
       "    </tr>\n",
       "    <tr>\n",
       "      <th>15290</th>\n",
       "      <td>6270.481920</td>\n",
       "    </tr>\n",
       "    <tr>\n",
       "      <th>15291</th>\n",
       "      <td>7181.911044</td>\n",
       "    </tr>\n",
       "    <tr>\n",
       "      <th>15292</th>\n",
       "      <td>4943.348928</td>\n",
       "    </tr>\n",
       "    <tr>\n",
       "      <th>15293</th>\n",
       "      <td>3921.719261</td>\n",
       "    </tr>\n",
       "  </tbody>\n",
       "</table>\n",
       "</div>"
      ],
      "text/plain": [
       "             Yield\n",
       "ID                \n",
       "15289  4323.947544\n",
       "15290  6270.481920\n",
       "15291  7181.911044\n",
       "15292  4943.348928\n",
       "15293  3921.719261"
      ]
     },
     "execution_count": 16,
     "metadata": {},
     "output_type": "execute_result"
    }
   ],
   "source": [
    "predicted_yield=pd.DataFrame(y_pred,columns=['Yield'])\n",
    "predicted_yield['ID']=ids\n",
    "predicted_yield=predicted_yield.set_index('ID')\n",
    "predicted_yield.head()"
   ]
  },
  {
   "cell_type": "code",
   "execution_count": 17,
   "id": "24ff533c",
   "metadata": {
    "execution": {
     "iopub.execute_input": "2024-06-19T09:55:37.415582Z",
     "iopub.status.busy": "2024-06-19T09:55:37.414704Z",
     "iopub.status.idle": "2024-06-19T09:55:37.457758Z",
     "shell.execute_reply": "2024-06-19T09:55:37.456500Z"
    },
    "papermill": {
     "duration": 0.069853,
     "end_time": "2024-06-19T09:55:37.460992",
     "exception": false,
     "start_time": "2024-06-19T09:55:37.391139",
     "status": "completed"
    },
    "tags": []
   },
   "outputs": [],
   "source": [
    "predicted_yield.to_csv('/kaggle/working/submission.csv')"
   ]
  }
 ],
 "metadata": {
  "kaggle": {
   "accelerator": "none",
   "dataSources": [
    {
     "databundleVersionId": 8780222,
     "sourceId": 81289,
     "sourceType": "competition"
    }
   ],
   "dockerImageVersionId": 30732,
   "isGpuEnabled": false,
   "isInternetEnabled": false,
   "language": "python",
   "sourceType": "notebook"
  },
  "kernelspec": {
   "display_name": "Python 3",
   "language": "python",
   "name": "python3"
  },
  "language_info": {
   "codemirror_mode": {
    "name": "ipython",
    "version": 3
   },
   "file_extension": ".py",
   "mimetype": "text/x-python",
   "name": "python",
   "nbconvert_exporter": "python",
   "pygments_lexer": "ipython3",
   "version": "3.10.13"
  },
  "papermill": {
   "default_parameters": {},
   "duration": 14.651008,
   "end_time": "2024-06-19T09:55:38.194979",
   "environment_variables": {},
   "exception": null,
   "input_path": "__notebook__.ipynb",
   "output_path": "__notebook__.ipynb",
   "parameters": {},
   "start_time": "2024-06-19T09:55:23.543971",
   "version": "2.5.0"
  }
 },
 "nbformat": 4,
 "nbformat_minor": 5
}
